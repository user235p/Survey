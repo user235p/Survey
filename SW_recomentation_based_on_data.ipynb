{
 "cells": [
  {
   "cell_type": "markdown",
   "metadata": {
    "pycharm": {
     "name": "#%% md\n"
    }
   },
   "source": [
    "# Project: Recomendation for AI development setup.\n",
    "\n",
    "At our group, we want to start AI development. We usually use Matlab in order to write algorithms. And Windows is often used.\n",
    "We don´t use a version management tool at the moment. \n",
    "Therefore we want to answer following questions:\n",
    "\n",
    "1) Witch operating system is most adequate?\n",
    "\n",
    "2) Does Matlab fits as AI programming language?\n",
    "\n",
    "3) Witch code editors are more appropiated?\n",
    "\n",
    "4) Witch AI libraries should we use?\n",
    "\n",
    "5) Witch version managment is recomended?\n",
    "\n",
    "In this notebook we use the data of the stack overflow survey 2022 in order to answer our questions:"
   ]
  },
  {
   "cell_type": "code",
   "execution_count": 3,
   "metadata": {
    "pycharm": {
     "is_executing": true,
     "name": "#%%\n"
    }
   },
   "outputs": [],
   "source": [
    "# Libraries\n",
    "import numpy as np\n",
    "import pandas as pd\n",
    "import matplotlib.pyplot as plt\n",
    "from IPython import display\n",
    "from collections import defaultdict\n",
    "\n",
    "%matplotlib inline"
   ]
  },
  {
   "cell_type": "markdown",
   "metadata": {},
   "source": [
    "# Extract the necessary data"
   ]
  },
  {
   "cell_type": "code",
   "execution_count": 4,
   "metadata": {
    "pycharm": {
     "name": "#%%\n"
    }
   },
   "outputs": [],
   "source": [
    "# Load public data of the stack overflow survey 2022 (https://insights.stackoverflow.com/survey)\n",
    "columns_of_interest = ['MainBranch','Employment','YearsCode','WorkExp','DevType','OrgSize','LanguageHaveWorkedWith','MiscTechHaveWorkedWith','NEWCollabToolsHaveWorkedWith','OpSysProfessional use','OpSysPersonal use','VersionControlSystem','VCInteraction','OfficeStackAsyncHaveWorkedWith','Age' ]\n",
    "df = pd.read_csv('survey_results_public.csv', usecols = columns_of_interest)"
   ]
  },
  {
   "cell_type": "code",
   "execution_count": 5,
   "metadata": {
    "pycharm": {
     "name": "#%%\n"
    }
   },
   "outputs": [
    {
     "data": {
      "text/html": [
       "<div>\n",
       "<style scoped>\n",
       "    .dataframe tbody tr th:only-of-type {\n",
       "        vertical-align: middle;\n",
       "    }\n",
       "\n",
       "    .dataframe tbody tr th {\n",
       "        vertical-align: top;\n",
       "    }\n",
       "\n",
       "    .dataframe thead th {\n",
       "        text-align: right;\n",
       "    }\n",
       "</style>\n",
       "<table border=\"1\" class=\"dataframe\">\n",
       "  <thead>\n",
       "    <tr style=\"text-align: right;\">\n",
       "      <th></th>\n",
       "      <th>MainBranch</th>\n",
       "      <th>Employment</th>\n",
       "      <th>YearsCode</th>\n",
       "      <th>DevType</th>\n",
       "      <th>OrgSize</th>\n",
       "      <th>...</th>\n",
       "      <th>VersionControlSystem</th>\n",
       "      <th>VCInteraction</th>\n",
       "      <th>OfficeStackAsyncHaveWorkedWith</th>\n",
       "      <th>Age</th>\n",
       "      <th>WorkExp</th>\n",
       "    </tr>\n",
       "  </thead>\n",
       "  <tbody>\n",
       "    <tr>\n",
       "      <th>0</th>\n",
       "      <td>None of these</td>\n",
       "      <td>NaN</td>\n",
       "      <td>NaN</td>\n",
       "      <td>NaN</td>\n",
       "      <td>NaN</td>\n",
       "      <td>...</td>\n",
       "      <td>NaN</td>\n",
       "      <td>NaN</td>\n",
       "      <td>NaN</td>\n",
       "      <td>NaN</td>\n",
       "      <td>NaN</td>\n",
       "    </tr>\n",
       "    <tr>\n",
       "      <th>1</th>\n",
       "      <td>I am a developer by profession</td>\n",
       "      <td>Employed, full-time</td>\n",
       "      <td>NaN</td>\n",
       "      <td>NaN</td>\n",
       "      <td>NaN</td>\n",
       "      <td>...</td>\n",
       "      <td>Git</td>\n",
       "      <td>NaN</td>\n",
       "      <td>NaN</td>\n",
       "      <td>NaN</td>\n",
       "      <td>NaN</td>\n",
       "    </tr>\n",
       "    <tr>\n",
       "      <th>2</th>\n",
       "      <td>I am not primarily a developer, but I write code sometimes as part of my work</td>\n",
       "      <td>Employed, full-time</td>\n",
       "      <td>14</td>\n",
       "      <td>Data scientist or machine learning specialist;Developer, front-end;Engineer, data;Engineer, site...</td>\n",
       "      <td>20 to 99 employees</td>\n",
       "      <td>...</td>\n",
       "      <td>Git</td>\n",
       "      <td>Code editor</td>\n",
       "      <td>NaN</td>\n",
       "      <td>25-34 years old</td>\n",
       "      <td>NaN</td>\n",
       "    </tr>\n",
       "    <tr>\n",
       "      <th>3</th>\n",
       "      <td>I am a developer by profession</td>\n",
       "      <td>Employed, full-time</td>\n",
       "      <td>20</td>\n",
       "      <td>Developer, full-stack</td>\n",
       "      <td>100 to 499 employees</td>\n",
       "      <td>...</td>\n",
       "      <td>Git</td>\n",
       "      <td>Code editor;Command-line;Version control hosting service web GUI;Dedicated version control GUI a...</td>\n",
       "      <td>Jira Work Management;Trello</td>\n",
       "      <td>35-44 years old</td>\n",
       "      <td>NaN</td>\n",
       "    </tr>\n",
       "    <tr>\n",
       "      <th>4</th>\n",
       "      <td>I am a developer by profession</td>\n",
       "      <td>Employed, full-time</td>\n",
       "      <td>8</td>\n",
       "      <td>Developer, front-end;Developer, full-stack;Developer, back-end;Developer, desktop or enterprise ...</td>\n",
       "      <td>20 to 99 employees</td>\n",
       "      <td>...</td>\n",
       "      <td>Git;Other (please specify):</td>\n",
       "      <td>Code editor</td>\n",
       "      <td>NaN</td>\n",
       "      <td>25-34 years old</td>\n",
       "      <td>NaN</td>\n",
       "    </tr>\n",
       "    <tr>\n",
       "      <th>...</th>\n",
       "      <td>...</td>\n",
       "      <td>...</td>\n",
       "      <td>...</td>\n",
       "      <td>...</td>\n",
       "      <td>...</td>\n",
       "      <td>...</td>\n",
       "      <td>...</td>\n",
       "      <td>...</td>\n",
       "      <td>...</td>\n",
       "      <td>...</td>\n",
       "      <td>...</td>\n",
       "    </tr>\n",
       "    <tr>\n",
       "      <th>73263</th>\n",
       "      <td>I am a developer by profession</td>\n",
       "      <td>Employed, full-time</td>\n",
       "      <td>8</td>\n",
       "      <td>Developer, back-end</td>\n",
       "      <td>100 to 499 employees</td>\n",
       "      <td>...</td>\n",
       "      <td>Git</td>\n",
       "      <td>Code editor;Command-line</td>\n",
       "      <td>Jira Work Management</td>\n",
       "      <td>25-34 years old</td>\n",
       "      <td>5.0</td>\n",
       "    </tr>\n",
       "    <tr>\n",
       "      <th>73264</th>\n",
       "      <td>I am a developer by profession</td>\n",
       "      <td>Employed, full-time</td>\n",
       "      <td>6</td>\n",
       "      <td>Data scientist or machine learning specialist</td>\n",
       "      <td>I don’t know</td>\n",
       "      <td>...</td>\n",
       "      <td>Git</td>\n",
       "      <td>Code editor;Command-line</td>\n",
       "      <td>NaN</td>\n",
       "      <td>25-34 years old</td>\n",
       "      <td>6.0</td>\n",
       "    </tr>\n",
       "    <tr>\n",
       "      <th>73265</th>\n",
       "      <td>I am not primarily a developer, but I write code sometimes as part of my work</td>\n",
       "      <td>Employed, full-time</td>\n",
       "      <td>42</td>\n",
       "      <td>Developer, full-stack;Developer, desktop or enterprise applications;System administrator</td>\n",
       "      <td>20 to 99 employees</td>\n",
       "      <td>...</td>\n",
       "      <td>Git</td>\n",
       "      <td>Code editor;Command-line;Version control hosting service web GUI;Dedicated version control GUI a...</td>\n",
       "      <td>Microsoft Lists</td>\n",
       "      <td>55-64 years old</td>\n",
       "      <td>42.0</td>\n",
       "    </tr>\n",
       "    <tr>\n",
       "      <th>73266</th>\n",
       "      <td>I am a developer by profession</td>\n",
       "      <td>Employed, full-time</td>\n",
       "      <td>50</td>\n",
       "      <td>Developer, front-end;Developer, desktop or enterprise applications</td>\n",
       "      <td>10 to 19 employees</td>\n",
       "      <td>...</td>\n",
       "      <td>SVN</td>\n",
       "      <td>Dedicated version control GUI application</td>\n",
       "      <td>NaN</td>\n",
       "      <td>55-64 years old</td>\n",
       "      <td>NaN</td>\n",
       "    </tr>\n",
       "    <tr>\n",
       "      <th>73267</th>\n",
       "      <td>I used to be a developer by profession, but no longer am</td>\n",
       "      <td>Independent contractor, freelancer, or self-employed</td>\n",
       "      <td>16</td>\n",
       "      <td>Developer, front-end;Engineer, data;Engineer, site reliability;Developer, full-stack;Developer, ...</td>\n",
       "      <td>NaN</td>\n",
       "      <td>...</td>\n",
       "      <td>Git</td>\n",
       "      <td>Code editor;Command-line;Version control hosting service web GUI;Dedicated version control GUI a...</td>\n",
       "      <td>Confluence;Jira Work Management;Trello;Wrike</td>\n",
       "      <td>25-34 years old</td>\n",
       "      <td>NaN</td>\n",
       "    </tr>\n",
       "  </tbody>\n",
       "</table>\n",
       "<p>73268 rows × 15 columns</p>\n",
       "</div>"
      ],
      "text/plain": [
       "                                                                          MainBranch  \\\n",
       "0                                                                      None of these   \n",
       "1                                                     I am a developer by profession   \n",
       "2      I am not primarily a developer, but I write code sometimes as part of my work   \n",
       "3                                                     I am a developer by profession   \n",
       "4                                                     I am a developer by profession   \n",
       "...                                                                              ...   \n",
       "73263                                                 I am a developer by profession   \n",
       "73264                                                 I am a developer by profession   \n",
       "73265  I am not primarily a developer, but I write code sometimes as part of my work   \n",
       "73266                                                 I am a developer by profession   \n",
       "73267                       I used to be a developer by profession, but no longer am   \n",
       "\n",
       "                                                 Employment YearsCode  \\\n",
       "0                                                       NaN       NaN   \n",
       "1                                       Employed, full-time       NaN   \n",
       "2                                       Employed, full-time        14   \n",
       "3                                       Employed, full-time        20   \n",
       "4                                       Employed, full-time         8   \n",
       "...                                                     ...       ...   \n",
       "73263                                   Employed, full-time         8   \n",
       "73264                                   Employed, full-time         6   \n",
       "73265                                   Employed, full-time        42   \n",
       "73266                                   Employed, full-time        50   \n",
       "73267  Independent contractor, freelancer, or self-employed        16   \n",
       "\n",
       "                                                                                                   DevType  \\\n",
       "0                                                                                                      NaN   \n",
       "1                                                                                                      NaN   \n",
       "2      Data scientist or machine learning specialist;Developer, front-end;Engineer, data;Engineer, site...   \n",
       "3                                                                                    Developer, full-stack   \n",
       "4      Developer, front-end;Developer, full-stack;Developer, back-end;Developer, desktop or enterprise ...   \n",
       "...                                                                                                    ...   \n",
       "73263                                                                                  Developer, back-end   \n",
       "73264                                                        Data scientist or machine learning specialist   \n",
       "73265             Developer, full-stack;Developer, desktop or enterprise applications;System administrator   \n",
       "73266                                   Developer, front-end;Developer, desktop or enterprise applications   \n",
       "73267  Developer, front-end;Engineer, data;Engineer, site reliability;Developer, full-stack;Developer, ...   \n",
       "\n",
       "                    OrgSize  ...         VersionControlSystem  \\\n",
       "0                       NaN  ...                          NaN   \n",
       "1                       NaN  ...                          Git   \n",
       "2        20 to 99 employees  ...                          Git   \n",
       "3      100 to 499 employees  ...                          Git   \n",
       "4        20 to 99 employees  ...  Git;Other (please specify):   \n",
       "...                     ...  ...                          ...   \n",
       "73263  100 to 499 employees  ...                          Git   \n",
       "73264          I don’t know  ...                          Git   \n",
       "73265    20 to 99 employees  ...                          Git   \n",
       "73266    10 to 19 employees  ...                          SVN   \n",
       "73267                   NaN  ...                          Git   \n",
       "\n",
       "                                                                                             VCInteraction  \\\n",
       "0                                                                                                      NaN   \n",
       "1                                                                                                      NaN   \n",
       "2                                                                                              Code editor   \n",
       "3      Code editor;Command-line;Version control hosting service web GUI;Dedicated version control GUI a...   \n",
       "4                                                                                              Code editor   \n",
       "...                                                                                                    ...   \n",
       "73263                                                                             Code editor;Command-line   \n",
       "73264                                                                             Code editor;Command-line   \n",
       "73265  Code editor;Command-line;Version control hosting service web GUI;Dedicated version control GUI a...   \n",
       "73266                                                            Dedicated version control GUI application   \n",
       "73267  Code editor;Command-line;Version control hosting service web GUI;Dedicated version control GUI a...   \n",
       "\n",
       "                     OfficeStackAsyncHaveWorkedWith              Age WorkExp  \n",
       "0                                               NaN              NaN     NaN  \n",
       "1                                               NaN              NaN     NaN  \n",
       "2                                               NaN  25-34 years old     NaN  \n",
       "3                       Jira Work Management;Trello  35-44 years old     NaN  \n",
       "4                                               NaN  25-34 years old     NaN  \n",
       "...                                             ...              ...     ...  \n",
       "73263                          Jira Work Management  25-34 years old     5.0  \n",
       "73264                                           NaN  25-34 years old     6.0  \n",
       "73265                               Microsoft Lists  55-64 years old    42.0  \n",
       "73266                                           NaN  55-64 years old     NaN  \n",
       "73267  Confluence;Jira Work Management;Trello;Wrike  25-34 years old     NaN  \n",
       "\n",
       "[73268 rows x 15 columns]"
      ]
     },
     "execution_count": 5,
     "metadata": {},
     "output_type": "execute_result"
    }
   ],
   "source": [
    "show_all_data = False # Define if we want to display the hole dataframe (takes some time)\n",
    "if show_all_data == True:\n",
    "    pd.set_option('display.max_rows', None)\n",
    "    pd.set_option('display.max_columns', None)\n",
    "    pd.set_option('display.width', None)\n",
    "    pd.set_option('display.max_colwidth', None)\n",
    "else:\n",
    "    pd.set_option('display.max_rows', 10)\n",
    "    pd.set_option('display.max_columns', 10)\n",
    "    pd.set_option('display.width', 100)\n",
    "    pd.set_option('display.max_colwidth', 100)\n",
    "\n",
    "#Show dataset\n",
    "df"
   ]
  },
  {
   "cell_type": "code",
   "execution_count": 6,
   "metadata": {
    "pycharm": {
     "name": "#%%\n"
    }
   },
   "outputs": [
    {
     "name": "stdout",
     "output_type": "stream",
     "text": [
      "['MainBranch', 'Employment', 'YearsCode', 'DevType', 'OrgSize', 'LanguageHaveWorkedWith', 'MiscTechHaveWorkedWith', 'NEWCollabToolsHaveWorkedWith', 'OpSysProfessional use', 'OpSysPersonal use', 'VersionControlSystem', 'VCInteraction', 'OfficeStackAsyncHaveWorkedWith', 'Age', 'WorkExp']\n"
     ]
    }
   ],
   "source": [
    "# Show all the columns\n",
    "print(df.columns.tolist())"
   ]
  },
  {
   "cell_type": "markdown",
   "metadata": {
    "pycharm": {
     "name": "#%% md\n"
    }
   },
   "source": [
    "# Selecting columns of interest\n",
    "\n",
    "After looking at the hole columns descriptions, and the data, the columns of interest for our questions are:\n",
    "\n",
    "Columns of interest:\n",
    "\n",
    "'MainBranch': Which of the following options best describes you today? Here, by \"developer\" we mean \"someone who writes code.\"\n",
    "\n",
    "'Employment': Which of the following best describes your current employment status?\n",
    "\n",
    "'YearsCode': Including any education, how many years have you been coding in total?\n",
    "\n",
    "'WorkExp': How many years of working experience do you have?\n",
    "\n",
    "'DevType': Which of the following describes your current job? Please select all that apply.\n",
    "\n",
    "'OrgSize': Approximately how many people are employed by the company or organization you currently work for?\n",
    "\n",
    "'LanguageHaveWorkedWith': Which programming, scripting, and markup languages have you done extensive development work in over \n",
    "the past year\n",
    "\n",
    "'MiscTechHaveWorkedWith': Which other frameworks and libraries have you done extensive development work in over the past year\n",
    "\n",
    "'NEWCollabToolsHaveWorkedWith': Which development environments did you use regularly over the past year\n",
    "\n",
    "'OpSysProfessional use': What is the primary operating system in which you work?\n",
    "\n",
    "'OpSysPersonal use'\n",
    "\n",
    "'VersionControlSystem': What are the primary version control systems you use?\n",
    "\n",
    "'VCInteraction': How do you interact with your version control system?\n",
    "\n",
    "'OfficeStackAsyncHaveWorkedWith': Which collaborative work management tools did you use regularly over the past year, and which do you want to work with over the next year?\n",
    "\n",
    "'Age': Age\n",
    "\n",
    "# Cleaning and preparing the data"
   ]
  },
  {
   "cell_type": "code",
   "execution_count": 7,
   "metadata": {
    "pycharm": {
     "name": "#%%\n"
    }
   },
   "outputs": [
    {
     "name": "stdout",
     "output_type": "stream",
     "text": [
      "0         nan\n",
      "1         nan\n",
      "2         nan\n",
      "3         nan\n",
      "4         nan\n",
      "         ... \n",
      "73263     5.0\n",
      "73264     6.0\n",
      "73265    42.0\n",
      "73266     nan\n",
      "73267     nan\n",
      "Name: WorkExp, Length: 73268, dtype: object\n"
     ]
    }
   ],
   "source": [
    "# Change the column 'WorkExp' to string type\n",
    "df['WorkExp'] = df['WorkExp'].astype(str)\n",
    "column_data = df['WorkExp']\n",
    "print(column_data)"
   ]
  },
  {
   "cell_type": "code",
   "execution_count": 8,
   "metadata": {
    "pycharm": {
     "name": "#%%\n"
    }
   },
   "outputs": [],
   "source": [
    "def generate_column_element_set (df, columns_of_interest):\n",
    "    '''\n",
    "    INPUT:\n",
    "    df - the pandas dataframe you want to search\n",
    "    columns_of_interest - list of the column names you want to look through\n",
    "\n",
    "    OUTPUT:\n",
    "    set_dictionary - a dictionary with the column, and the element set for each column\n",
    "    '''\n",
    "    set_dictionary = { }\n",
    "    for selected_column in columns_of_interest:\n",
    "        column_data = df[selected_column].dropna()\n",
    "        whole_elements = []\n",
    "        for row in column_data:\n",
    "            row_elements = row.split(';')\n",
    "            for string in row_elements:\n",
    "                whole_elements = whole_elements + [string.strip()]\n",
    "        possible_vals = set(whole_elements)\n",
    "        print ('Column <',selected_column,'> has following data: ',possible_vals,'\\n')\n",
    "        set_dictionary.update({selected_column : possible_vals})\n",
    "        #print (set_dictionary)\n",
    "    return (set_dictionary)"
   ]
  },
  {
   "cell_type": "code",
   "execution_count": null,
   "metadata": {
    "pycharm": {
     "name": "#%%\n"
    }
   },
   "outputs": [
    {
     "name": "stdout",
     "output_type": "stream",
     "text": [
      "Column < MainBranch > has following data:  {'None of these', 'I am learning to code', 'I code primarily as a hobby', 'I am not primarily a developer, but I write code sometimes as part of my work', 'I am a developer by profession', 'I used to be a developer by profession, but no longer am'} \n",
      "\n",
      "Column < Employment > has following data:  {'Not employed, but looking for work', 'Student, full-time', 'Independent contractor, freelancer, or self-employed', 'Employed, part-time', 'I prefer not to say', 'Not employed, and not looking for work', 'Student, part-time', 'Employed, full-time', 'Retired'} \n",
      "\n",
      "Column < YearsCode > has following data:  {'11', 'More than 50 years', '31', '12', '1', '43', '25', '36', '22', '30', '23', '29', '50', '33', '7', '27', '16', '20', '6', '38', '28', '39', '42', '46', '13', '5', '19', '2', '49', '48', '21', '3', '4', '18', '45', '47', '17', '26', '40', '10', '8', '35', '44', 'Less than 1 year', '34', '32', '41', '37', '24', '14', '15', '9'} \n",
      "\n",
      "Column < WorkExp > has following data:  {'47.0', '45.0', 'nan', '24.0', '17.0', '15.0', '37.0', '42.0', '48.0', '27.0', '18.0', '43.0', '46.0', '11.0', '3.0', '14.0', '32.0', '50.0', '23.0', '1.0', '26.0', '38.0', '36.0', '49.0', '12.0', '16.0', '7.0', '4.0', '21.0', '9.0', '22.0', '35.0', '34.0', '30.0', '19.0', '29.0', '39.0', '20.0', '0.0', '25.0', '41.0', '5.0', '44.0', '40.0', '31.0', '28.0', '2.0', '10.0', '13.0', '6.0', '33.0', '8.0'} \n",
      "\n",
      "Column < DevType > has following data:  {'Developer, embedded applications or devices', 'Engineering manager', 'Developer, back-end', 'Database administrator', 'Developer, QA or test', 'Developer, game or graphics', 'Engineer, data', 'Blockchain', 'Senior Executive (C-Suite, VP, etc.)', 'Data scientist or machine learning specialist', 'Other (please specify):', 'Designer', 'Developer, front-end', 'Developer, full-stack', 'Scientist', 'Educator', 'Developer, desktop or enterprise applications', 'Academic researcher', 'Cloud infrastructure engineer', 'Project manager', 'Engineer, site reliability', 'Developer, mobile', 'System administrator', 'Security professional', 'Data or business analyst', 'Student', 'DevOps specialist', 'Product manager', 'Marketing or sales professional'} \n",
      "\n",
      "Column < OrgSize > has following data:  {'I don’t know', 'Just me - I am a freelancer, sole proprietor, etc.', '20 to 99 employees', '5,000 to 9,999 employees', '1,000 to 4,999 employees', '100 to 499 employees', '10,000 or more employees', '2 to 9 employees', '500 to 999 employees', '10 to 19 employees'} \n",
      "\n"
     ]
    }
   ],
   "source": [
    "load = False # Indicates if we generate the dictionary from the data (it takes a lot of time), or we load it from a file where it was once generated.\n",
    "\n",
    "if (load == False):\n",
    "    # generate the dictionary set\n",
    "    column_element_set_dictionary = generate_column_element_set(df, columns_of_interest)\n",
    "    print (column_element_set_dictionary)\n",
    "    # Save dictionary to a file\n",
    "    np.save('column_element_set_dictionary.npy', column_element_set_dictionary)\n",
    "    print ('column_element_set_dictionary saved to a file')\n",
    "else:\n",
    "    # Load the dictionary from the file (in order to save the processing time)\n",
    "    column_element_set_dictionary = np.load('column_element_set_dictionary.npy',allow_pickle='TRUE').item()\n",
    "    for selected_column in columns_of_interest:\n",
    "        print ('Column <',selected_column,'> has following data: ',column_element_set_dictionary[selected_column],'\\n')"
   ]
  },
  {
   "cell_type": "markdown",
   "metadata": {
    "pycharm": {
     "name": "#%% md\n"
    }
   },
   "source": [
    "## Selecting interesting column elements\n",
    "\n",
    "After processing all the interesting columns, we have the following dictionaries for each column.\n",
    "I marked the interesting items of the different dictionaries.\n",
    "\n",
    "Column **< MainBranch >** has following data:  {'I am not primarily a developer, but I write code sometimes as part of my work', 'I am learning to code', 'None of these', 'I code primarily as a hobby', 'I am a developer by profession', 'I used to be a developer by profession, but no longer am'}\n",
    "\n",
    "Column **< Employment >** has following data:  {'Not employed, but looking for work', 'Employed, part-time', 'Employed, full-time', 'Not employed, and not looking for work', 'Independent contractor, freelancer, or self-employed', 'I prefer not to say', 'Retired', 'Student, full-time', 'Student, part-time'}\n",
    "\n",
    "Column **< YearsCode >** has following data:  {'20', '14', '26', '35', '34', 'More than 50 years', '23', '4', '38', '1', '21', '22', '18', '49', '40', '29', '43', '46', '6', '28', '7', '16', '19', '30', '10', 'Less than 1 year', '42', '2', '31', '13', '44', '17', '24', '48', '33', '11', '3', '50', '45', '25', '27', '39', '12', '47', '41', '8', '15', '5', '9', '32', '37', '36'}\n",
    "\n",
    "Column **< WorkExp >** has following data:  {'25.0', '48.0', '21.0', '46.0', '30.0', '24.0', '38.0', '28.0', '9.0', '23.0', '35.0', '5.0', '4.0', '14.0', '0.0', '33.0', '29.0', '40.0', '19.0', '34.0', '6.0', '26.0', 'nan', '41.0', '8.0', '22.0', '45.0', '15.0', '42.0', '50.0', '49.0', '7.0', '18.0', '2.0', '11.0', '39.0', '44.0', '12.0', '16.0', '37.0', '1.0', '17.0', '31.0', '36.0', '10.0', '20.0', '47.0', '32.0', '27.0', '43.0', '3.0', '13.0'}\n",
    "\n",
    "Column **< DevType >** has following data:  {'Designer', 'Senior Executive (C-Suite, VP, etc.)', 'Engineer, data', 'Developer, game or graphics', 'System administrator', 'Educator', 'Academic researcher', 'Developer, full-stack', 'Blockchain', 'Project manager', 'Scientist', 'Data or business analyst', 'Student', 'Engineering manager', 'DevOps specialist', 'Product manager', 'Developer, front-end', 'Developer, mobile', **'Data scientist or machine learning specialist'**, 'Developer, QA or test', 'Security professional', 'Developer, desktop or enterprise applications', 'Developer, embedded applications or devices', 'Other (please specify):', 'Database administrator', 'Engineer, site reliability', 'Developer, back-end', 'Cloud infrastructure engineer', 'Marketing or sales professional'}\n",
    "\n",
    "Column **< OrgSize >** has following data:  {'1,000 to 4,999 employees', 'Just me - I am a freelancer, sole proprietor, etc.', '20 to 99 employees', '100 to 499 employees', '5,000 to 9,999 employees', 'I don’t know', '500 to 999 employees', '10,000 or more employees', '2 to 9 employees', '10 to 19 employees'}\n",
    "\n",
    "Column **< LanguageHaveWorkedWith >** has following data:  {'Julia', **'Python'**, 'Rust', 'Elixir', 'JavaScript', 'F#', 'Ruby', 'Dart', 'Clojure', 'Go', 'COBOL', 'C++', **'MATLAB'**, 'Haskell', 'Assembly', 'Fortran', 'Groovy', 'SQL', 'SAS', 'Erlang', 'Lua', 'Scala', 'C', 'OCaml', 'HTML/CSS', 'Solidity', 'Kotlin', 'TypeScript', 'C#', 'Delphi', 'Objective-C', 'APL', 'Perl', 'LISP', 'Java', 'Swift', 'Crystal', 'PowerShell', 'PHP', 'Bash/Shell', 'VBA', 'R'}\n",
    "\n",
    "Column **< MiscTechHaveWorkedWith >** has following data:  {'Electron', **'TensorFlow'**, 'Qt', 'Tidyverse', 'Apache Kafka', 'Hugging Face Transformers', 'Apache Spark', 'Cordova', 'Xamarin', 'Hadoop', **'NumPy'**, **'Scikit-learn'**, 'React Native', 'Capacitor', **'Pandas'**, 'Spring', 'Uno Platform', **'Torch/PyTorch'**, 'Ionic', 'GTK', 'Flutter', **'Keras'**, '.NET'}\n",
    "\n",
    "Column **< NEWCollabToolsHaveWorkedWith >** has following data:  {'Spyder', 'Xcode', 'RAD Studio (Delphi, C++ Builder)', 'Rider', 'Android Studio', 'Visual Studio Code', **'Notepad++'**, 'TextMate', **'IPython/Jupyter'**, 'PhpStorm', 'Sublime Text', 'RStudio', 'GoLand', 'Webstorm', 'Vim', 'Nano', 'Visual Studio', **'PyCharm'**, 'Atom', 'Neovim', 'IntelliJ', 'CLion', 'NetBeans', 'Emacs', 'RubyMine', 'Eclipse', 'Qt Creator'}\n",
    "\n",
    "Column **< OpSysProfessional use >** has following data:  {'Other (please specify):', 'Linux-based', **'Windows'**, 'BSD', 'macOS', 'Windows Subsystem for Linux (WSL)'}\n",
    "\n",
    "Column **< OpSysPersonal use >** has following data:  {'Other (please specify):', 'Linux-based', **'Windows'**, 'BSD', 'macOS', 'Windows Subsystem for Linux (WSL)'}\n",
    "\n",
    "Column **< VersionControlSystem >** has following data:  {'Mercurial', **'Git'**, 'Other (please specify):', **'SVN'**, **\"I don't use one\"**}\n",
    "\n",
    "Column **< VCInteraction >** has following data:  {'Code editor', 'Dedicated version control GUI application', **'Command-line'**, 'Version control hosting service web GUI'}\n",
    "\n",
    "Column **< OfficeStackAsyncHaveWorkedWith >** has following data:  {'DingTalk (Teambition)', 'Microsoft Planner', 'Adobe Workfront', 'Stack Overflow for Teams', 'Trello', **'Confluence'**, 'monday.com', 'Wimi', 'Swit', 'Wrike', 'Planview Projectplace or Clarizen', 'Smartsheet', 'Notion', 'Airtable', 'ClickUp', **'Jira Work Management'**, 'Workzone', 'Cerri', 'Microsoft Lists', 'Leankor', 'Asana'}\n",
    "\n",
    "Column **< Age >** has following data:  {'65 years or older', '45-54 years old', '18-24 years old', '35-44 years old', '55-64 years old', '25-34 years old', 'Prefer not to say', 'Under 18 years old'}\n",
    "\n",
    "Now lets plot each column data and coment the information there"
   ]
  },
  {
   "cell_type": "code",
   "execution_count": null,
   "metadata": {},
   "outputs": [],
   "source": [
    "def generate_flag_for_column_element (df, selected_column, element, flag_column_name):\n",
    "    '''\n",
    "    INPUT:\n",
    "    df - the pandas dataframe you want to search\n",
    "    selected_column - column names you want to look through\n",
    "    element - element to look in the selected column\n",
    "    flag_column_name - name of the new column where \n",
    "\n",
    "    OUTPUT:\n",
    "    dataframe - a new dataframe with the new flag column included\n",
    "    '''\n",
    "\n",
    "    # Generate the new column\n",
    "    df[flag_column_name] = False # Default value is False\n",
    "\n",
    "    for index, row in df.iterrows():\n",
    "        row_column_elements = str(row[selected_column]).split(';')\n",
    "        for string in row_column_elements:\n",
    "            if element == string.strip():\n",
    "                #print ('Element <',element,'> found in row')\n",
    "                df.loc[index,[flag_column_name]] = True\n",
    "    return (df)\n",
    "\n",
    "def generate_flag_for_column_several_elements (df, selected_column, element_list, flag_column_name):\n",
    "    '''\n",
    "    INPUT:\n",
    "    df - the pandas dataframe you want to search\n",
    "    selected_column - column names you want to look through\n",
    "    element_list - element list to look in the selected column\n",
    "    flag_column_name - name of the new column where \n",
    "\n",
    "    OUTPUT:\n",
    "    dataframe - a new dataframe with the new flag column included where element1 or element2 is present\n",
    "    '''\n",
    "\n",
    "    # Generate the new column\n",
    "    df[flag_column_name] = False # Default value is False\n",
    "\n",
    "    for index, row in df.iterrows():\n",
    "        row_column_elements = str(row[selected_column]).split(';')\n",
    "        for string in row_column_elements:\n",
    "            for element in element_list:\n",
    "                if (element == string.strip())  :\n",
    "                    df.loc[index,[flag_column_name]] = True\n",
    "    return (df)\n",
    "\n",
    "def generate_flag_for_column_several_columns (df, column_list, element, flag_column_name):\n",
    "    '''\n",
    "    INPUT:\n",
    "    df - the pandas dataframe you want to search\n",
    "    column_list - column names list you want to look through\n",
    "    element - element to look in the selected column\n",
    "    flag_column_name - name of the new column where \n",
    "\n",
    "    OUTPUT:\n",
    "    dataframe - a new dataframe with the new flag column included\n",
    "    '''\n",
    "\n",
    "    # Generate the new column\n",
    "    df[flag_column_name] = False # Default value is False\n",
    "\n",
    "    for index, row in df.iterrows():\n",
    "        for selected_column in column_list:\n",
    "            row_column_elements = str(row[selected_column]).split(';')\n",
    "            for string in row_column_elements:\n",
    "                if element == string.strip():\n",
    "                    #print ('Element <',element,'> found in row')\n",
    "                    df.loc[index,[flag_column_name]] = True\n",
    "    return (df)\n"
   ]
  },
  {
   "cell_type": "code",
   "execution_count": null,
   "metadata": {
    "pycharm": {
     "name": "#%%\n"
    }
   },
   "outputs": [],
   "source": [
    "def total_count(df, col1, col2, look_for):\n",
    "    '''\n",
    "    INPUT:\n",
    "    df - the pandas dataframe you want to search\n",
    "    col1 - the column name you want to look through\n",
    "    col2 - the column you want to count values from\n",
    "    look_for - a list of strings you want to search for in each row of df[col]\n",
    "\n",
    "    OUTPUT:\n",
    "    new_df - a dataframe of each look_for with the count of how often it shows up\n",
    "    '''\n",
    "    new_df = defaultdict(int)\n",
    "    #loop through list of ed types\n",
    "    for val in look_for:\n",
    "        #loop through rows\n",
    "        for idx in range(df.shape[0]):\n",
    "            #if the ed type is in the row, add the devs\n",
    "            if val in df[col1][idx]:\n",
    "                new_df[val] += int(df[col2][idx])\n",
    "    #clean up the resulting dataframe8\n",
    "    new_df = pd.DataFrame(pd.Series(new_df)).reset_index()\n",
    "    new_df.columns = [col1, col2]\n",
    "    new_df.sort_values('count', ascending=False, inplace=True)\n",
    "    return new_df\n",
    "\n",
    "def count_plot(df, column, possible_vals, rotation=90, size=5):\n",
    "    '''\n",
    "    INPUT\n",
    "        df - a dataframe holding the CousinEducation column\n",
    "        column - column to plot\n",
    "        possible_vals - values of column\n",
    "        rotation - x axis labels rotation\n",
    "        size - grafic size\n",
    "\n",
    "    OUTPUT\n",
    "        Displays a plot related to column\n",
    "    '''\n",
    "    study = df[column].value_counts().reset_index()\n",
    "    study.rename(columns={'index': 'method', column: 'count'}, inplace=True)\n",
    "    study_df = total_count(study, 'method', 'count', possible_vals)\n",
    "\n",
    "    study_df.set_index('method', inplace=True)\n",
    "\n",
    "    (100*study_df/study_df.sum()).plot(kind='bar', legend=None, figsize = (size,size));\n",
    "    plt.ylabel('proportion (%) of each option in the data')\n",
    "    plt.xlabel('options in the column data')\n",
    "    plt.xticks(rotation=rotation)\n",
    "    plt.title('Analysis of column <'+column+'>');\n",
    "    plt.show()\n",
    "\n",
    "    return"
   ]
  },
  {
   "cell_type": "markdown",
   "metadata": {},
   "source": [
    "# Results evaluation"
   ]
  },
  {
   "cell_type": "code",
   "execution_count": null,
   "metadata": {
    "pycharm": {
     "name": "#%%\n"
    }
   },
   "outputs": [],
   "source": [
    "#columns_of_interest = ['MainBranch','Employment','YearsCode','WorkExp','DevType','OrgSize','LanguageHaveWorkedWith','MiscTechHaveWorkedWith','NEWCollabToolsHaveWorkedWith','OpSysProfessional use','OpSysPersonal use','VersionControlSystem','VCInteraction','OfficeStackAsyncHaveWorkedWith','Age' ]\n",
    "selected_column = 'MainBranch'\n",
    "count_plot(df, selected_column, column_element_set_dictionary[selected_column])"
   ]
  },
  {
   "cell_type": "markdown",
   "metadata": {},
   "source": [
    "We see that more than 70% of the entries are done by professional developers. This is the group we are looking for our question. Therefore we generate a new boolean column where the entries with this characteristic is marked."
   ]
  },
  {
   "cell_type": "code",
   "execution_count": null,
   "metadata": {},
   "outputs": [],
   "source": [
    "# Generate a flag for the rows with \"profesional developers\"\n",
    "selected_column = 'MainBranch'\n",
    "element_to_flag = 'I am a developer by profession'\n",
    "flag_column_name = 'dev_prof'\n",
    "df = generate_flag_for_column_element(df,selected_column,element_to_flag, flag_column_name)"
   ]
  },
  {
   "cell_type": "code",
   "execution_count": null,
   "metadata": {
    "scrolled": false
   },
   "outputs": [],
   "source": [
    "#columns_of_interest = ['MainBranch','Employment','YearsCode','WorkExp','DevType','OrgSize','LanguageHaveWorkedWith','MiscTechHaveWorkedWith','NEWCollabToolsHaveWorkedWith','OpSysProfessional use','OpSysPersonal use','VersionControlSystem','VCInteraction','OfficeStackAsyncHaveWorkedWith','Age' ]\n",
    "selected_column = 'Employment'\n",
    "count_plot(df, selected_column, column_element_set_dictionary[selected_column])"
   ]
  },
  {
   "cell_type": "markdown",
   "metadata": {},
   "source": [
    "Almost 60% of the entries are full time employies. In second place, full-time students and freelancer with each above 10% are important groups"
   ]
  },
  {
   "cell_type": "code",
   "execution_count": null,
   "metadata": {},
   "outputs": [],
   "source": [
    "#columns_of_interest = ['MainBranch','Employment','YearsCode','WorkExp','DevType','OrgSize','LanguageHaveWorkedWith','MiscTechHaveWorkedWith','NEWCollabToolsHaveWorkedWith','OpSysProfessional use','OpSysPersonal use','VersionControlSystem','VCInteraction','OfficeStackAsyncHaveWorkedWith','Age' ]\n",
    "selected_column = 'YearsCode'\n",
    "count_plot(df, selected_column, column_element_set_dictionary[selected_column], size=10)"
   ]
  },
  {
   "cell_type": "markdown",
   "metadata": {},
   "source": [
    "We see that the biggest group of entries are of people coding less than 10 years."
   ]
  },
  {
   "cell_type": "code",
   "execution_count": null,
   "metadata": {},
   "outputs": [],
   "source": [
    "#columns_of_interest = ['MainBranch','Employment','YearsCode','WorkExp','DevType','OrgSize','LanguageHaveWorkedWith','MiscTechHaveWorkedWith','NEWCollabToolsHaveWorkedWith','OpSysProfessional use','OpSysPersonal use','VersionControlSystem','VCInteraction','OfficeStackAsyncHaveWorkedWith','Age' ]\n",
    "selected_column = 'WorkExp'\n",
    "count_plot(df[df[selected_column] != 'nan'], selected_column, column_element_set_dictionary[selected_column], size=10) #df_wihtoutnans = df[df[selected_column] != 'nan']"
   ]
  },
  {
   "cell_type": "markdown",
   "metadata": {},
   "source": [
    "Here also the group of people with less than 10 years work experience are the biggest group."
   ]
  },
  {
   "cell_type": "code",
   "execution_count": null,
   "metadata": {
    "scrolled": false
   },
   "outputs": [],
   "source": [
    "#columns_of_interest = ['MainBranch','Employment','YearsCode','WorkExp','DevType','OrgSize','LanguageHaveWorkedWith','MiscTechHaveWorkedWith','NEWCollabToolsHaveWorkedWith','OpSysProfessional use','OpSysPersonal use','VersionControlSystem','VCInteraction','OfficeStackAsyncHaveWorkedWith','Age' ]\n",
    "selected_column = 'DevType'\n",
    "count_plot(df, selected_column, column_element_set_dictionary[selected_column], size=10)"
   ]
  },
  {
   "cell_type": "markdown",
   "metadata": {},
   "source": [
    "Most of the entries are really developers of production code.\n",
    "For our question it is important to define the group working on data science and machine learning. Therefore we generate a column flag for this.\n"
   ]
  },
  {
   "cell_type": "code",
   "execution_count": null,
   "metadata": {},
   "outputs": [],
   "source": [
    "# Generate a flag column\n",
    "selected_column = 'DevType'\n",
    "element_to_flag = 'Data scientist or machine learning specialist'\n",
    "flag_column_name = 'ML'\n",
    "df = generate_flag_for_column_element(df,selected_column,element_to_flag, flag_column_name)"
   ]
  },
  {
   "cell_type": "code",
   "execution_count": null,
   "metadata": {},
   "outputs": [],
   "source": [
    "# Count proportion of entries\n",
    "print ('There are ',round (100 * df[df['ML']==True].shape[0]/ df.shape[0], 2),'% people that work on ML.')"
   ]
  },
  {
   "cell_type": "code",
   "execution_count": null,
   "metadata": {
    "scrolled": false
   },
   "outputs": [],
   "source": [
    "#columns_of_interest = ['MainBranch','Employment','YearsCode','WorkExp','DevType','OrgSize','LanguageHaveWorkedWith','MiscTechHaveWorkedWith','NEWCollabToolsHaveWorkedWith','OpSysProfessional use','OpSysPersonal use','VersionControlSystem','VCInteraction','OfficeStackAsyncHaveWorkedWith','Age' ]\n",
    "selected_column = 'OrgSize'\n",
    "count_plot(df, selected_column, column_element_set_dictionary[selected_column])"
   ]
  },
  {
   "cell_type": "markdown",
   "metadata": {},
   "source": [
    "The size of the company is distributed. We can not identify a clear pattern."
   ]
  },
  {
   "cell_type": "code",
   "execution_count": null,
   "metadata": {
    "scrolled": false
   },
   "outputs": [],
   "source": [
    "#columns_of_interest = ['MainBranch','Employment','YearsCode','WorkExp','DevType','OrgSize','LanguageHaveWorkedWith','MiscTechHaveWorkedWith','NEWCollabToolsHaveWorkedWith','OpSysProfessional use','OpSysPersonal use','VersionControlSystem','VCInteraction','OfficeStackAsyncHaveWorkedWith','Age' ]\n",
    "selected_column = 'LanguageHaveWorkedWith'\n",
    "count_plot(df, selected_column, column_element_set_dictionary[selected_column], size=10)"
   ]
  },
  {
   "cell_type": "markdown",
   "metadata": {},
   "source": [
    "This is a very interessting data for our questions. \n",
    "We see that most of the people work on C and Java. The second group focus on web coding with JavaScript and HTML/CSS.\n",
    "We are interested in the group of people working on Python or MATLAB. Therefore we generate a flag for both groups."
   ]
  },
  {
   "cell_type": "code",
   "execution_count": null,
   "metadata": {},
   "outputs": [],
   "source": [
    "# Generate a flag for the rows with \"python and Matlab\"\n",
    "selected_column = 'LanguageHaveWorkedWith'\n",
    "element_to_flag = 'Python'\n",
    "flag_column_name = 'Python'\n",
    "df = generate_flag_for_column_element(df,selected_column,element_to_flag, flag_column_name)\n",
    "element_to_flag = 'MATLAB'\n",
    "flag_column_name = 'MATLAB'\n",
    "df = generate_flag_for_column_element(df,selected_column,element_to_flag, flag_column_name)"
   ]
  },
  {
   "cell_type": "code",
   "execution_count": null,
   "metadata": {},
   "outputs": [],
   "source": [
    "# Count proportion of entries\n",
    "print ('There are ',round (100 * df[df['Python']==True].shape[0]/ df.shape[0], 2),'% people on the survey that work with python.')\n",
    "print ('There are ',round (100 * df[df['MATLAB']==True].shape[0]/ df.shape[0], 2),'% people on the survey that work with Matlab.')"
   ]
  },
  {
   "cell_type": "markdown",
   "metadata": {},
   "source": [
    "There are almost 50% of people that work with python.\n",
    "And only 4% working with Matlab.\n",
    "\n",
    "Now look only at the group of people that declare to be data scientists or work with machine learning."
   ]
  },
  {
   "cell_type": "code",
   "execution_count": null,
   "metadata": {},
   "outputs": [],
   "source": [
    "selected_column = 'LanguageHaveWorkedWith'\n",
    "count_plot(df[df['ML']==True], selected_column, column_element_set_dictionary[selected_column], size=10)"
   ]
  },
  {
   "cell_type": "code",
   "execution_count": null,
   "metadata": {},
   "outputs": [],
   "source": [
    "#columns_of_interest = ['MainBranch','Employment','YearsCode','WorkExp','DevType','OrgSize','LanguageHaveWorkedWith','MiscTechHaveWorkedWith','NEWCollabToolsHaveWorkedWith','OpSysProfessional use','OpSysPersonal use','VersionControlSystem','VCInteraction','OfficeStackAsyncHaveWorkedWith','Age' ]\n",
    "selected_column = 'MiscTechHaveWorkedWith'\n",
    "count_plot(df, selected_column, column_element_set_dictionary[selected_column], size=10)"
   ]
  },
  {
   "cell_type": "markdown",
   "metadata": {},
   "source": [
    "For our questions it is interesting to know the people working with AI related tools. We identify ['TensorFlow','Scikit-learn', 'Torch/PyTorch', 'Keras'] as elements that are related to it. So let generate a column flag that select the entries with one of this elements."
   ]
  },
  {
   "cell_type": "code",
   "execution_count": null,
   "metadata": {},
   "outputs": [],
   "source": [
    "# Generate a flag column.\n",
    "selected_column = 'MiscTechHaveWorkedWith'\n",
    "element_list_to_flag = ['TensorFlow','Scikit-learn', 'Torch/PyTorch', 'Keras']\n",
    "flag_column_name = 'ai'\n",
    "df = generate_flag_for_column_several_elements(df, selected_column, element_list_to_flag, flag_column_name)"
   ]
  },
  {
   "cell_type": "code",
   "execution_count": null,
   "metadata": {},
   "outputs": [],
   "source": [
    "# Count proportion of entries\n",
    "print ('There are ',round (100 * df[df['ai']==True].shape[0]/ df.shape[0], 2),'% people on the survey that work with ai libraries/tools.')"
   ]
  },
  {
   "cell_type": "markdown",
   "metadata": {},
   "source": [
    "It is a relevant group of people (nearly 13%) working with ai related tools."
   ]
  },
  {
   "cell_type": "code",
   "execution_count": null,
   "metadata": {},
   "outputs": [],
   "source": [
    "selected_column = 'MiscTechHaveWorkedWith'\n",
    "count_plot(df[df['ML']==True], selected_column, column_element_set_dictionary[selected_column], size=7)"
   ]
  },
  {
   "cell_type": "code",
   "execution_count": null,
   "metadata": {
    "scrolled": false
   },
   "outputs": [],
   "source": [
    "#columns_of_interest = ['MainBranch','Employment','YearsCode','WorkExp','DevType','OrgSize','LanguageHaveWorkedWith','MiscTechHaveWorkedWith','NEWCollabToolsHaveWorkedWith','OpSysProfessional use','OpSysPersonal use','VersionControlSystem','VCInteraction','OfficeStackAsyncHaveWorkedWith','Age' ]\n",
    "selected_column = 'NEWCollabToolsHaveWorkedWith'\n",
    "count_plot(df, selected_column, column_element_set_dictionary[selected_column], size=10)"
   ]
  },
  {
   "cell_type": "markdown",
   "metadata": {},
   "source": [
    "For our questions it is relevant the users working with PyCharm and Jupyter. Therefore let´s create a flag columns for this two groups."
   ]
  },
  {
   "cell_type": "code",
   "execution_count": null,
   "metadata": {},
   "outputs": [],
   "source": [
    "# Generate a flag column.\n",
    "selected_column = 'NEWCollabToolsHaveWorkedWith'\n",
    "element_list_to_flag = ['IPython/Jupyter']\n",
    "flag_column_name = 'Jupyter'\n",
    "df = generate_flag_for_column_several_elements(df, selected_column, element_list_to_flag, flag_column_name)\n",
    "element_list_to_flag = ['PyCharm']\n",
    "flag_column_name = 'PyCharm'\n",
    "df = generate_flag_for_column_several_elements(df, selected_column, element_list_to_flag, flag_column_name)"
   ]
  },
  {
   "cell_type": "code",
   "execution_count": null,
   "metadata": {},
   "outputs": [],
   "source": [
    "# Count proportion of entries\n",
    "print ('There are ',round (100 * df[df['Jupyter']==True].shape[0]/ df.shape[0], 2),'% people on the survey that work with Jupyter.')\n",
    "print ('There are ',round (100 * df[df['PyCharm']==True].shape[0]/ df.shape[0], 2),'% people on the survey that work with PyCharm.')"
   ]
  },
  {
   "cell_type": "markdown",
   "metadata": {},
   "source": [
    "There would be interesting if the people using Jupyter, also program with Python (it sould be)"
   ]
  },
  {
   "cell_type": "code",
   "execution_count": null,
   "metadata": {},
   "outputs": [],
   "source": [
    "print ('There are ',round (100 * df[((df['Jupyter']==True) & (df['Python']==True))].shape[0]/ df[df['Python']==True].shape[0], 2),'% people working with Python, uses Jupyter.')\n",
    "print ('There are ',round (100 * df[((df['PyCharm']==True) & (df['Python']==True))].shape[0]/ df[df['Python']==True].shape[0], 2),'% people working with Python, uses PyCharm.')"
   ]
  },
  {
   "cell_type": "markdown",
   "metadata": {},
   "source": [
    "But then, what tool uses the rest of the people working with Python?\n",
    "Lets find it out."
   ]
  },
  {
   "cell_type": "code",
   "execution_count": null,
   "metadata": {
    "scrolled": false
   },
   "outputs": [],
   "source": [
    "selected_column = 'NEWCollabToolsHaveWorkedWith'\n",
    "count_plot(df[df['Python']==True], selected_column, column_element_set_dictionary[selected_column], size=10)"
   ]
  },
  {
   "cell_type": "code",
   "execution_count": null,
   "metadata": {},
   "outputs": [],
   "source": [
    "selected_column = 'NEWCollabToolsHaveWorkedWith'\n",
    "count_plot(df[(df['Python']==True) & (df['ML']==True)], selected_column, column_element_set_dictionary[selected_column], size=10)"
   ]
  },
  {
   "cell_type": "markdown",
   "metadata": {},
   "source": [
    "Very intersting. Most of the people working with Python, use Visual Studio. Then comes PyCharm. And Jupyter is at the 7th place."
   ]
  },
  {
   "cell_type": "code",
   "execution_count": null,
   "metadata": {},
   "outputs": [],
   "source": [
    "#columns_of_interest = ['MainBranch','Employment','YearsCode','WorkExp','DevType','OrgSize','LanguageHaveWorkedWith','MiscTechHaveWorkedWith','NEWCollabToolsHaveWorkedWith','OpSysProfessional use','OpSysPersonal use','VersionControlSystem','VCInteraction','OfficeStackAsyncHaveWorkedWith','Age' ]\n",
    "selected_column = 'OpSysProfessional use'\n",
    "count_plot(df, selected_column, column_element_set_dictionary[selected_column], rotation=70)"
   ]
  },
  {
   "cell_type": "code",
   "execution_count": null,
   "metadata": {},
   "outputs": [],
   "source": [
    "#columns_of_interest = ['MainBranch','Employment','YearsCode','WorkExp','DevType','OrgSize','LanguageHaveWorkedWith','MiscTechHaveWorkedWith','NEWCollabToolsHaveWorkedWith','OpSysProfessional use','OpSysPersonal use','VersionControlSystem','VCInteraction','OfficeStackAsyncHaveWorkedWith','Age' ]\n",
    "selected_column = 'OpSysPersonal use'\n",
    "count_plot(df, selected_column, column_element_set_dictionary[selected_column], rotation=70)"
   ]
  },
  {
   "cell_type": "markdown",
   "metadata": {},
   "source": [
    "Most of the people uses windows for both professional and personal use.\n",
    "The operating system is important for our question. Therefore let generate a flag for this."
   ]
  },
  {
   "cell_type": "code",
   "execution_count": null,
   "metadata": {},
   "outputs": [],
   "source": [
    "# Generate a flag column.\n",
    "column_list = ['OpSysProfessional use', 'OpSysPersonal use']\n",
    "element_to_flag = 'Windows'\n",
    "flag_column_name = 'Windows'\n",
    "df = generate_flag_for_column_several_columns(df, column_list, element_to_flag, flag_column_name)"
   ]
  },
  {
   "cell_type": "markdown",
   "metadata": {},
   "source": [
    "It would be interesting for me to know how many people working with python use windows. Lets chek it."
   ]
  },
  {
   "cell_type": "code",
   "execution_count": null,
   "metadata": {},
   "outputs": [],
   "source": [
    "print ('There are ',round (100 * df[((df['Windows']==True) & (df['Python']==True))].shape[0]/ df[df['Python']==True].shape[0], 2),'% people working with Python, uses Windows.')"
   ]
  },
  {
   "cell_type": "markdown",
   "metadata": {},
   "source": [
    "So most of the people are using windows as operating system.\n",
    "Now we look in to the group working on data science or machine learning."
   ]
  },
  {
   "cell_type": "code",
   "execution_count": null,
   "metadata": {},
   "outputs": [],
   "source": [
    "selected_column = 'OpSysProfessional use'\n",
    "count_plot(df[df['ML']==True], selected_column, column_element_set_dictionary[selected_column])"
   ]
  },
  {
   "cell_type": "code",
   "execution_count": null,
   "metadata": {
    "scrolled": false
   },
   "outputs": [],
   "source": [
    "#columns_of_interest = ['MainBranch','Employment','YearsCode','WorkExp','DevType','OrgSize','LanguageHaveWorkedWith','MiscTechHaveWorkedWith','NEWCollabToolsHaveWorkedWith','OpSysProfessional use','OpSysPersonal use','VersionControlSystem','VCInteraction','OfficeStackAsyncHaveWorkedWith','Age' ]\n",
    "selected_column = 'VersionControlSystem'\n",
    "count_plot(df, selected_column, column_element_set_dictionary[selected_column], rotation=70)"
   ]
  },
  {
   "cell_type": "markdown",
   "metadata": {},
   "source": [
    "Here it is very clear, that GIT is the most used version managment tool."
   ]
  },
  {
   "cell_type": "code",
   "execution_count": null,
   "metadata": {},
   "outputs": [],
   "source": [
    "#columns_of_interest = ['MainBranch','Employment','YearsCode','WorkExp','DevType','OrgSize','LanguageHaveWorkedWith','MiscTechHaveWorkedWith','NEWCollabToolsHaveWorkedWith','OpSysProfessional use','OpSysPersonal use','VersionControlSystem','VCInteraction','OfficeStackAsyncHaveWorkedWith','Age' ]\n",
    "selected_column = 'OfficeStackAsyncHaveWorkedWith'\n",
    "count_plot(df, selected_column, column_element_set_dictionary[selected_column], rotation=90, size = 10)"
   ]
  },
  {
   "cell_type": "markdown",
   "metadata": {},
   "source": [
    "It is very interesting, that most of the people uses Jira or confluence. The two systems are also very well known here."
   ]
  },
  {
   "cell_type": "code",
   "execution_count": null,
   "metadata": {
    "scrolled": false
   },
   "outputs": [],
   "source": [
    "#columns_of_interest = ['MainBranch','Employment','YearsCode','WorkExp','DevType','OrgSize','LanguageHaveWorkedWith','MiscTechHaveWorkedWith','NEWCollabToolsHaveWorkedWith','OpSysProfessional use','OpSysPersonal use','VersionControlSystem','VCInteraction','OfficeStackAsyncHaveWorkedWith','Age' ]\n",
    "selected_column = 'Age'\n",
    "count_plot(df, selected_column, column_element_set_dictionary[selected_column], rotation=90)"
   ]
  },
  {
   "cell_type": "markdown",
   "metadata": {},
   "source": [
    "Most of the people are between 18 and 44 years old. Let´s generate a flag for such group witch is relevant to our questions."
   ]
  },
  {
   "cell_type": "code",
   "execution_count": null,
   "metadata": {},
   "outputs": [],
   "source": [
    "# Generate a flag column.\n",
    "selected_column = 'Age'\n",
    "element_list_to_flag = ['25-34 years old','18-24 years old','35-44 years old']\n",
    "flag_column_name = 'FocusAge'\n",
    "df = generate_flag_for_column_several_elements(df, selected_column, element_list_to_flag, flag_column_name)"
   ]
  },
  {
   "cell_type": "code",
   "execution_count": null,
   "metadata": {},
   "outputs": [],
   "source": [
    "print ('There are ',round (100 * df[df['FocusAge']==True].shape[0]/ df.shape[0], 2),'% people between 18 and 44 years old.')"
   ]
  },
  {
   "cell_type": "markdown",
   "metadata": {},
   "source": [
    "The mayority of the people are in this relevant age group."
   ]
  }
 ],
 "metadata": {
  "kernelspec": {
   "display_name": "Python 3 (ipykernel)",
   "language": "python",
   "name": "python3"
  },
  "language_info": {
   "codemirror_mode": {
    "name": "ipython",
    "version": 3
   },
   "file_extension": ".py",
   "mimetype": "text/x-python",
   "name": "python",
   "nbconvert_exporter": "python",
   "pygments_lexer": "ipython3",
   "version": "3.9.1"
  }
 },
 "nbformat": 4,
 "nbformat_minor": 1
}
